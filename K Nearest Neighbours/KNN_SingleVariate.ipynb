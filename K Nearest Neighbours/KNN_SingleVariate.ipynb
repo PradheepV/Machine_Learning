import numpy as np
import pandas as pd
# Brought along the changes we made to the `dc_listings` Dataframe.
dc_listings = pd.read_csv('dc_airbnb.csv')
stripped_commas = dc_listings['price'].str.replace(',', '')
stripped_dollars = stripped_commas.str.replace('$', '')
dc_listings['price'] = stripped_dollars.astype('float')
dc_listings = dc_listings.loc[np.random.permutation(len(dc_listings))]

def predict_price(new_listing):
    temp_df = dc_listings.copy()
    ## Complete the function.
    temp_df['distance'] = np.abs(temp_df.iloc[:]['accommodates'] - new_listing)
    temp_df = temp_df.sort_values('distance')
    price = temp_df.iloc[0:5]['price']
    mean = price.mean()
    return(mean)

acc_one = predict_price(1)
acc_two = predict_price(2)
acc_four = predict_price(4)